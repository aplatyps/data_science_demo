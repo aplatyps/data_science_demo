{
    "metadata": {
        "kernelspec": {
            "name": "python3",
            "display_name": "Python 3 (ipykernel)",
            "language": "python"
        },
        "language_info": {
            "name": "python",
            "version": "3.8.9",
            "mimetype": "text/x-python",
            "codemirror_mode": {
                "name": "ipython",
                "version": 3
            },
            "pygments_lexer": "ipython3",
            "nbconvert_exporter": "python",
            "file_extension": ".py"
        }
    },
    "nbformat_minor": 2,
    "nbformat": 4,
    "cells": [
        {
            "cell_type": "markdown",
            "source": [
                "# Text Processing"
            ],
            "metadata": {
                "azdata_cell_guid": "e874414a-3ac1-4c7b-8561-3b2a11af9f59"
            },
            "attachments": {}
        },
        {
            "cell_type": "markdown",
            "source": [
                "Feed the following paragraph into your favourite data analytics tool, and answer the following:\n",
                "\n",
                "  \n",
                "\n",
                "As a term, data analytics predominantly refers to an assortment of applications, from basic business intelligence (BI), reporting and online analytical processing (OLAP) to various forms of advanced analytics. In that sense, it's similar in nature to business analytics, another umbrella term for approaches to analyzing data -- with the difference that the latter is oriented to business uses, while data analytics has a broader focus. The expansive view of the term isn't universal, though: In some cases, people use data analytics specifically to mean advanced analytics, treating BI as a separate category. Data analytics initiatives can help businesses increase revenues, improve operational efficiency, optimize marketing campaigns and customer service efforts, respond more quickly to emerging market trends and gain a competitive edge over rivals -- all with the ultimate goal of boosting business performance. Depending on the particular application, the data that's analyzed can consist of either historical records or new information that has been processed for real-time analytics uses. In addition, it can come from a mix of internal systems and external data sources. At a high level, data analytics methodologies include exploratory data analysis (EDA), which aims to find patterns and relationships in data, and confirmatory data analysis (CDA), which applies statistical techniques to determine whether hypotheses about a data set are true or false. EDA is often compared to detective work, while CDA is akin to the work of a judge or jury during a court trial -- a distinction first drawn by statistician John W. Tukey in his 1977 book Exploratory Data Analysis. Data analytics can also be separated into quantitative data analysis and qualitative data analysis. The former involves analysis of numerical data with quantifiable variables that can be compared or measured statistically. The qualitative approach is more interpretive -- it focuses on understanding the content of non-numerical data like text, images, audio and video, including common phrases, themes and points of view. \n",
                "\n",
                "  \n",
                "\n",
                "a. What is the probability of the word “data” occurring in each line ?\n",
                "\n",
                "b. What is the distribution of distinct word counts across all the lines ?  \n",
                "\n",
                "c. What is the probability of the word “analytics” occurring after the word “data” ?"
            ],
            "metadata": {
                "azdata_cell_guid": "b01579e5-6cc4-449b-84ad-a51ebe91e763"
            },
            "attachments": {}
        },
        {
            "cell_type": "code",
            "source": [
                "import nltk\r\n",
                "import string\r\n",
                "import numpy as np\r\n",
                "import matplotlib as mpl\r\n",
                "import matplotlib.pyplot as plt\r\n",
                "\r\n",
                "from pattern.en import lemma\r\n",
                "from nltk.tokenize import sent_tokenize, TweetTokenizer\r\n",
                "\r\n",
                "\r\n",
                "paragraph = \"As a term, data analytics predominantly refers to an assortment of applications, from basic business intelligence (BI), reporting and online analytical processing (OLAP) to various forms of advanced analytics. In that sense, it's similar in nature to business analytics, another umbrella term for approaches to analyzing data -- with the difference that the latter is oriented to business uses, while data analytics has a broader focus. The expansive view of the term isn't universal, though: In some cases, people use data analytics specifically to mean advanced analytics, treating BI as a separate category. Data analytics initiatives can help businesses increase revenues, improve operational efficiency, optimize marketing campaigns and customer service efforts, respond more quickly to emerging market trends and gain a competitive edge over rivals -- all with the ultimate goal of boosting business performance. Depending on the particular application, the data that's analyzed can consist of either historical records or new information that has been processed for real-time analytics uses. In addition, it can come from a mix of internal systems and external data sources. At a high level, data analytics methodologies include exploratory data analysis (EDA), which aims to find patterns and relationships in data, and confirmatory data analysis (CDA), which applies statistical techniques to determine whether hypotheses about a data set are true or false. EDA is often compared to detective work, while CDA is akin to the work of a judge or jury during a court trial -- a distinction first drawn by statistician John W. Tukey in his 1977 book Exploratory Data Analysis. Data analytics can also be separated into quantitative data analysis and qualitative data analysis. The former involves analysis of numerical data with quantifiable variables that can be compared or measured statistically. The qualitative approach is more interpretive -- it focuses on understanding the content of non-numerical data like text, images, audio and video, including common phrases, themes and points of view.\"\r\n",
                "\r\n",
                "searched_word = 'data'\r\n",
                "searched_word_2 = 'analytics'\r\n",
                "\r\n",
                "tweet = TweetTokenizer()\r\n",
                "sentences = sent_tokenize(paragraph)\r\n",
                "\r\n",
                "n_sentences = len(sentences)\r\n",
                "word_count_list = np.array([])\r\n",
                "searched_word_count_list = np.array([])\r\n",
                "searched_word_2_count_list = np.array([])\r\n",
                "word_only_paragraph = np.array([])\r\n",
                "\r\n",
                "for sentence in sentences:\r\n",
                "    word_count = 0\r\n",
                "    searched_word_count = 0\r\n",
                "    searched_word_2_count = 0\r\n",
                "    text = tweet.tokenize(sentence)\r\n",
                "    for word in text:\r\n",
                "        if word not in string.punctuation:\r\n",
                "            word_only_paragraph = np.append(word_only_paragraph, word)\r\n",
                "            word_count += 1\r\n",
                "        if word == searched_word:\r\n",
                "            searched_word_count += 1\r\n",
                "        if searched_word_count > 0 and word == searched_word_2:\r\n",
                "            searched_word_2_count += 1\r\n",
                "    word_count_list = np.append(word_count_list, word_count)\r\n",
                "    searched_word_count_list = np.append(searched_word_count_list, searched_word_count)\r\n",
                "    searched_word_2_count_list = np.append(searched_word_2_count_list, searched_word_2_count)"
            ],
            "metadata": {
                "azdata_cell_guid": "d19d7c8e-b2c6-4078-b838-587eeaa7a57d",
                "language": "python"
            },
            "outputs": [],
            "execution_count": 6
        },
        {
            "cell_type": "code",
            "source": [
                "print(\"Q3. a.\")\r\n",
                "print(\"Number of lines in the text paragraph:\\n\", n_sentences)\r\n",
                "print(\"\\nOccurence of \"+searched_word+\" in each line:\\n\", searched_word_count_list)\r\n",
                "print(\"\\nNumber of words in each line:\\n\", word_count_list)\r\n",
                "print(\"\\nProbability of the word “\"+searched_word+\"” occurring in each line:\\n\", searched_word_count_list / word_count_list)\r\n",
                "print()"
            ],
            "metadata": {
                "azdata_cell_guid": "4e95c5fa-3b46-46f9-afde-b84422e497a9",
                "language": "python"
            },
            "outputs": [
                {
                    "name": "stdout",
                    "text": "Q3. a.\nNumber of lines in the text paragraph:\n 11\n\nOccurence of data in each line:\n [1. 2. 1. 0. 1. 1. 5. 0. 2. 1. 1.]\n\nNumber of words in each line:\n [29. 36. 27. 41. 26. 15. 42. 39. 14. 17. 29.]\n\nProbability of the word “data” occurring in each line:\n [0.03448276 0.05555556 0.03703704 0.         0.03846154 0.06666667\n 0.11904762 0.         0.14285714 0.05882353 0.03448276]\n\n",
                    "output_type": "stream"
                }
            ],
            "execution_count": 8
        },
        {
            "cell_type": "code",
            "source": [
                "print(\"Q3. b.\")\r\n",
                "word_only_paragraph_cl = np.array([lemma(wrd) for wrd in np.char.lower(word_only_paragraph)])\r\n",
                "fdist = nltk.FreqDist(word_only_paragraph_cl)\r\n",
                "fdist_top20 = fdist.most_common(20)\r\n",
                "fdist_top20 = dict(fdist_top20)\r\n",
                "plt.figure(figsize=(15, 4))\r\n",
                "plt.bar(range(len(fdist_top20)), list(fdist_top20.values()), align='center', \r\n",
                "        color=plt.cm.tab20c.colors)\r\n",
                "plt.xticks(range(len(fdist_top20)), list(fdist_top20.keys()), rotation=50)\r\n",
                "plt.show()\r\n",
                "print(dict(sorted(fdist.items(), key=lambda item: item[1], reverse=True)))\r\n",
                "print()"
            ],
            "metadata": {
                "azdata_cell_guid": "b27019ab-93ab-4ace-8ddf-7b060d3ab317",
                "language": "python"
            },
            "outputs": [
                {
                    "name": "stdout",
                    "text": "Q3. b.\n",
                    "output_type": "stream"
                },
                {
                    "data": {
                        "text/plain": "<Figure size 1080x288 with 1 Axes>",
                        "image/png": "[encoded data removed]"
                    },
                    "metadata": {
                        "needs_background": "light"
                    },
                    "output_type": "display_data"
                },
                {
                    "name": "stdout",
                    "text": "{'data': 18, 'a': 12, 'to': 11, 'the': 11, 'analytic': 10, 'of': 10, 'and': 9, 'be': 9, 'in': 6, 'analysi': 6, 'can': 5, 'busines': 4, 'that': 4, 'or': 4, 'term': 3, 'with': 3, 'application': 2, 'from': 2, 'bi': 2, 'process': 2, 'advance': 2, 'for': 2, 'approach': 2, 'analyze': 2, 'used': 2, 'while': 2, 'have': 2, 'focus': 2, 'view': 2, 'separate': 2, 'market': 2, 'more': 2, 'on': 2, 'it': 2, 'include': 2, 'exploratory': 2, 'eda': 2, 'which': 2, 'cda': 2, 'compare': 2, 'work': 2, 'qualitative': 2, 'predominantly': 1, 'refer': 1, 'an': 1, 'assortment': 1, 'basic': 1, 'intelligence': 1, 'report': 1, 'online': 1, 'analytical': 1, 'olap': 1, 'variou': 1, 'form': 1, 'sense': 1, \"it'\": 1, 'similar': 1, 'nature': 1, 'another': 1, 'umbrella': 1, 'difference': 1, 'latter': 1, 'orient': 1, 'broader': 1, 'expansive': 1, 'universal': 1, 'though': 1, 'some': 1, 'case': 1, 'people': 1, 'use': 1, 'specifically': 1, 'mean': 1, 'treat': 1, 'category': 1, 'initiative': 1, 'help': 1, 'business': 1, 'increase': 1, 'revenue': 1, 'improve': 1, 'operational': 1, 'efficiency': 1, 'optimize': 1, 'campaign': 1, 'customer': 1, 'service': 1, 'effort': 1, 'respond': 1, 'quickly': 1, 'emerge': 1, 'trend': 1, 'gain': 1, 'competitive': 1, 'edge': 1, 'over': 1, 'rival': 1, 'all': 1, 'ultimate': 1, 'goal': 1, 'boost': 1, 'performance': 1, 'depend': 1, 'particular': 1, \"that'\": 1, 'consist': 1, 'either': 1, 'historical': 1, 'record': 1, 'new': 1, 'information': 1, 'real-time': 1, 'addition': 1, 'come': 1, 'mix': 1, 'internal': 1, 'system': 1, 'external': 1, 'source': 1, 'at': 1, 'high': 1, 'level': 1, 'methodology': 1, 'aim': 1, 'find': 1, 'pattern': 1, 'relationship': 1, 'confirmatory': 1, 'apply': 1, 'statistical': 1, 'technique': 1, 'determine': 1, 'whether': 1, 'hypothese': 1, 'about': 1, 'set': 1, 'true': 1, 'false': 1, 'often': 1, 'detective': 1, 'akin': 1, 'judge': 1, 'jury': 1, 'dure': 1, 'court': 1, 'trial': 1, 'distinction': 1, 'first': 1, 'draw': 1, 'by': 1, 'statistician': 1, 'john': 1, 'w': 1, 'tukey': 1, 'hi': 1, '1977': 1, 'book': 1, 'also': 1, 'into': 1, 'quantitative': 1, 'former': 1, 'involve': 1, 'numerical': 1, 'quantifiable': 1, 'variable': 1, 'measure': 1, 'statistically': 1, 'interpretive': 1, 'understand': 1, 'content': 1, 'non-numerical': 1, 'like': 1, 'text': 1, 'image': 1, 'audio': 1, 'video': 1, 'common': 1, 'phrase': 1, 'theme': 1, 'point': 1}\n\n",
                    "output_type": "stream"
                }
            ],
            "execution_count": 4
        },
        {
            "cell_type": "code",
            "source": [
                "print(\"Q3. c.\")\r\n",
                "print(\"Probability of the word “\"+searched_word_2+\"” occurring after the word “\"+searched_word+\"”: \", np.sum(searched_word_2_count_list) / np.sum(searched_word_count_list))"
            ],
            "metadata": {
                "azdata_cell_guid": "f7a4cf25-3017-4052-bf83-5793696b1132",
                "language": "python"
            },
            "outputs": [
                {
                    "name": "stdout",
                    "text": "Q3. c.\nProbability of the word “analytics” occurring after the word “data”:  0.4666666666666667\n",
                    "output_type": "stream"
                }
            ],
            "execution_count": 5
        }
    ]
}